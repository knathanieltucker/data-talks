{
  "nbformat": 4,
  "nbformat_minor": 0,
  "metadata": {
    "colab": {
      "name": "twitter_comp.ipynb",
      "version": "0.3.2",
      "views": {},
      "default_view": {},
      "provenance": [],
      "collapsed_sections": []
    },
    "kernelspec": {
      "name": "python2",
      "display_name": "Python 2",
      "language": "python"
    },
    "accelerator": "GPU"
  },
  "cells": [
    {
      "metadata": {
        "id": "ZE_o_Epjhcv9",
        "colab_type": "code",
        "colab": {
          "autoexec": {
            "startup": false,
            "wait_interval": 0
          },
          "output_extras": [
            {
              "item_id": 11
            },
            {
              "item_id": 16
            }
          ],
          "base_uri": "https://localhost:8080/",
          "height": 2329
        },
        "outputId": "6364cacb-eb2a-4198-ff39-09e8165de940",
        "executionInfo": {
          "status": "ok",
          "timestamp": 1518377081087,
          "user_tz": 480,
          "elapsed": 25501,
          "user": {
            "displayName": "Nate Tucker",
            "photoUrl": "https://lh3.googleusercontent.com/a/default-user=s128",
            "userId": "111608333972400226084"
          }
        }
      },
      "cell_type": "code",
      "source": [
        "!pip install -q gensim\n",
        "!pip install -q markovify\n",
        "!apt-get -qq install -y graphviz && pip install -q pydot"
      ],
      "execution_count": 1,
      "outputs": [
        {
          "output_type": "stream",
          "text": [
            "Extracting templates from packages: 100%\n",
            "Selecting previously unselected package libxext6:amd64.\n",
            "(Reading database ... 16633 files and directories currently installed.)\n",
            "Preparing to unpack .../00-libxext6_2%3a1.3.3-1_amd64.deb ...\n",
            "Unpacking libxext6:amd64 (2:1.3.3-1) ...\n",
            "Selecting previously unselected package fontconfig.\n",
            "Preparing to unpack .../01-fontconfig_2.11.94-0ubuntu2_amd64.deb ...\n",
            "Unpacking fontconfig (2.11.94-0ubuntu2) ...\n",
            "Selecting previously unselected package x11-common.\n",
            "Preparing to unpack .../02-x11-common_1%3a7.7+19ubuntu3_all.deb ...\n",
            "Unpacking x11-common (1:7.7+19ubuntu3) ...\n",
            "Selecting previously unselected package libice6:amd64.\n",
            "Preparing to unpack .../03-libice6_2%3a1.0.9-2_amd64.deb ...\n",
            "Unpacking libice6:amd64 (2:1.0.9-2) ...\n",
            "Selecting previously unselected package libsm6:amd64.\n",
            "Preparing to unpack .../04-libsm6_2%3a1.2.2-1_amd64.deb ...\n",
            "Unpacking libsm6:amd64 (2:1.2.2-1) ...\n",
            "Selecting previously unselected package libjbig0:amd64.\n",
            "Preparing to unpack .../05-libjbig0_2.1-3.1_amd64.deb ...\n",
            "Unpacking libjbig0:amd64 (2.1-3.1) ...\n",
            "Selecting previously unselected package libcdt5.\n",
            "Preparing to unpack .../06-libcdt5_2.38.0-16ubuntu2_amd64.deb ...\n",
            "Unpacking libcdt5 (2.38.0-16ubuntu2) ...\n",
            "Selecting previously unselected package libcgraph6.\n",
            "Preparing to unpack .../07-libcgraph6_2.38.0-16ubuntu2_amd64.deb ...\n",
            "Unpacking libcgraph6 (2.38.0-16ubuntu2) ...\n",
            "Selecting previously unselected package libtiff5:amd64.\n",
            "Preparing to unpack .../08-libtiff5_4.0.8-5_amd64.deb ...\n",
            "Unpacking libtiff5:amd64 (4.0.8-5) ...\n",
            "Selecting previously unselected package libwebp6:amd64.\n",
            "Preparing to unpack .../09-libwebp6_0.6.0-3_amd64.deb ...\n",
            "Unpacking libwebp6:amd64 (0.6.0-3) ...\n",
            "Selecting previously unselected package libxpm4:amd64.\n",
            "Preparing to unpack .../10-libxpm4_1%3a3.5.12-1_amd64.deb ...\n",
            "Unpacking libxpm4:amd64 (1:3.5.12-1) ...\n",
            "Selecting previously unselected package libgd3:amd64.\n",
            "Preparing to unpack .../11-libgd3_2.2.5-3_amd64.deb ...\n",
            "Unpacking libgd3:amd64 (2.2.5-3) ...\n",
            "Selecting previously unselected package libpixman-1-0:amd64.\n",
            "Preparing to unpack .../12-libpixman-1-0_0.34.0-1_amd64.deb ...\n",
            "Unpacking libpixman-1-0:amd64 (0.34.0-1) ...\n",
            "Selecting previously unselected package libxcb-render0:amd64.\n",
            "Preparing to unpack .../13-libxcb-render0_1.12-1ubuntu1_amd64.deb ...\n",
            "Unpacking libxcb-render0:amd64 (1.12-1ubuntu1) ...\n",
            "Selecting previously unselected package libxcb-shm0:amd64.\n",
            "Preparing to unpack .../14-libxcb-shm0_1.12-1ubuntu1_amd64.deb ...\n",
            "Unpacking libxcb-shm0:amd64 (1.12-1ubuntu1) ...\n",
            "Selecting previously unselected package libcairo2:amd64.\n",
            "Preparing to unpack .../15-libcairo2_1.14.10-1ubuntu1_amd64.deb ...\n",
            "Unpacking libcairo2:amd64 (1.14.10-1ubuntu1) ...\n",
            "Selecting previously unselected package libltdl7:amd64.\n",
            "Preparing to unpack .../16-libltdl7_2.4.6-2_amd64.deb ...\n",
            "Unpacking libltdl7:amd64 (2.4.6-2) ...\n",
            "Selecting previously unselected package libthai-data.\n",
            "Preparing to unpack .../17-libthai-data_0.1.26-3_all.deb ...\n",
            "Unpacking libthai-data (0.1.26-3) ...\n",
            "Selecting previously unselected package libdatrie1:amd64.\n",
            "Preparing to unpack .../18-libdatrie1_0.2.10-5_amd64.deb ...\n",
            "Unpacking libdatrie1:amd64 (0.2.10-5) ...\n",
            "Selecting previously unselected package libthai0:amd64.\n",
            "Preparing to unpack .../19-libthai0_0.1.26-3_amd64.deb ...\n",
            "Unpacking libthai0:amd64 (0.1.26-3) ...\n",
            "Selecting previously unselected package libpango-1.0-0:amd64.\n",
            "Preparing to unpack .../20-libpango-1.0-0_1.40.12-1_amd64.deb ...\n",
            "Unpacking libpango-1.0-0:amd64 (1.40.12-1) ...\n",
            "Selecting previously unselected package libgraphite2-3:amd64.\n",
            "Preparing to unpack .../21-libgraphite2-3_1.3.10-2_amd64.deb ...\n",
            "Unpacking libgraphite2-3:amd64 (1.3.10-2) ...\n",
            "Selecting previously unselected package libharfbuzz0b:amd64.\n",
            "Preparing to unpack .../22-libharfbuzz0b_1.4.2-1_amd64.deb ...\n",
            "Unpacking libharfbuzz0b:amd64 (1.4.2-1) ...\n",
            "Selecting previously unselected package libpangoft2-1.0-0:amd64.\n",
            "Preparing to unpack .../23-libpangoft2-1.0-0_1.40.12-1_amd64.deb ...\n",
            "Unpacking libpangoft2-1.0-0:amd64 (1.40.12-1) ...\n",
            "Selecting previously unselected package libpangocairo-1.0-0:amd64.\n",
            "Preparing to unpack .../24-libpangocairo-1.0-0_1.40.12-1_amd64.deb ...\n",
            "Unpacking libpangocairo-1.0-0:amd64 (1.40.12-1) ...\n",
            "Selecting previously unselected package libpathplan4.\n",
            "Preparing to unpack .../25-libpathplan4_2.38.0-16ubuntu2_amd64.deb ...\n",
            "Unpacking libpathplan4 (2.38.0-16ubuntu2) ...\n",
            "Selecting previously unselected package libgvc6.\n",
            "Preparing to unpack .../26-libgvc6_2.38.0-16ubuntu2_amd64.deb ...\n",
            "Unpacking libgvc6 (2.38.0-16ubuntu2) ...\n",
            "Selecting previously unselected package libgvpr2.\n",
            "Preparing to unpack .../27-libgvpr2_2.38.0-16ubuntu2_amd64.deb ...\n",
            "Unpacking libgvpr2 (2.38.0-16ubuntu2) ...\n",
            "Selecting previously unselected package libxt6:amd64.\n",
            "Preparing to unpack .../28-libxt6_1%3a1.1.5-1_amd64.deb ...\n",
            "Unpacking libxt6:amd64 (1:1.1.5-1) ...\n",
            "Selecting previously unselected package libxmu6:amd64.\n",
            "Preparing to unpack .../29-libxmu6_2%3a1.1.2-2_amd64.deb ...\n",
            "Unpacking libxmu6:amd64 (2:1.1.2-2) ...\n",
            "Selecting previously unselected package libxaw7:amd64.\n",
            "Preparing to unpack .../30-libxaw7_2%3a1.0.13-1_amd64.deb ...\n",
            "Unpacking libxaw7:amd64 (2:1.0.13-1) ...\n",
            "Selecting previously unselected package graphviz.\n",
            "Preparing to unpack .../31-graphviz_2.38.0-16ubuntu2_amd64.deb ...\n",
            "Unpacking graphviz (2.38.0-16ubuntu2) ...\n",
            "Setting up libpathplan4 (2.38.0-16ubuntu2) ...\n",
            "Setting up libxcb-render0:amd64 (1.12-1ubuntu1) ...\n",
            "Setting up libxext6:amd64 (2:1.3.3-1) ...\n",
            "Setting up libjbig0:amd64 (2.1-3.1) ...\n"
          ],
          "name": "stdout"
        },
        {
          "output_type": "stream",
          "text": [
            "Setting up libdatrie1:amd64 (0.2.10-5) ...\r\n",
            "Setting up libtiff5:amd64 (4.0.8-5) ...\r\n",
            "Setting up libgraphite2-3:amd64 (1.3.10-2) ...\r\n",
            "Setting up libpixman-1-0:amd64 (0.34.0-1) ...\n",
            "Processing triggers for libc-bin (2.26-0ubuntu2) ...\n",
            "Setting up libltdl7:amd64 (2.4.6-2) ...\n",
            "Setting up libxcb-shm0:amd64 (1.12-1ubuntu1) ...\n",
            "Setting up libxpm4:amd64 (1:3.5.12-1) ...\n",
            "Setting up libthai-data (0.1.26-3) ...\n",
            "Setting up x11-common (1:7.7+19ubuntu3) ...\n",
            "update-rc.d: warning: start and stop actions are no longer supported; falling back to defaults\n",
            "invoke-rc.d: could not determine current runlevel\n",
            "invoke-rc.d: policy-rc.d denied execution of start.\n",
            "Setting up libcdt5 (2.38.0-16ubuntu2) ...\n",
            "Setting up fontconfig (2.11.94-0ubuntu2) ...\n",
            "Regenerating fonts cache... done.\n",
            "Setting up libcgraph6 (2.38.0-16ubuntu2) ...\n",
            "Setting up libwebp6:amd64 (0.6.0-3) ...\n",
            "Setting up libcairo2:amd64 (1.14.10-1ubuntu1) ...\n",
            "Setting up libgvpr2 (2.38.0-16ubuntu2) ...\n",
            "Setting up libgd3:amd64 (2.2.5-3) ...\n",
            "Setting up libharfbuzz0b:amd64 (1.4.2-1) ...\n",
            "Setting up libthai0:amd64 (0.1.26-3) ...\n",
            "Setting up libpango-1.0-0:amd64 (1.40.12-1) ...\n",
            "Setting up libice6:amd64 (2:1.0.9-2) ...\n",
            "Setting up libsm6:amd64 (2:1.2.2-1) ...\n",
            "Setting up libpangoft2-1.0-0:amd64 (1.40.12-1) ...\n",
            "Setting up libxt6:amd64 (1:1.1.5-1) ...\n",
            "Setting up libpangocairo-1.0-0:amd64 (1.40.12-1) ...\n",
            "Setting up libxmu6:amd64 (2:1.1.2-2) ...\n",
            "Setting up libxaw7:amd64 (2:1.0.13-1) ...\n",
            "Setting up libgvc6 (2.38.0-16ubuntu2) ...\n",
            "Setting up graphviz (2.38.0-16ubuntu2) ...\n",
            "Processing triggers for libc-bin (2.26-0ubuntu2) ...\n"
          ],
          "name": "stdout"
        }
      ]
    },
    {
      "metadata": {
        "id": "-fKlqPH9p2s6",
        "colab_type": "text"
      },
      "cell_type": "markdown",
      "source": [
        "# Intro\n",
        "\n",
        "Today we are going to be looking at a series of text analysis tools, from TFIDF and feature importances from decision trees to text generation and word2vec. We are only skimming the surface, that being said we have a lot to cover, so let's get started!"
      ]
    },
    {
      "metadata": {
        "id": "Kf0C7jkicFd8",
        "colab_type": "code",
        "colab": {
          "autoexec": {
            "startup": false,
            "wait_interval": 0
          }
        }
      },
      "cell_type": "code",
      "source": [
        "%matplotlib inline\n",
        "\n",
        "import pandas as pd\n",
        "import numpy as np\n",
        "import matplotlib.pyplot as plt\n",
        "import seaborn as sns"
      ],
      "execution_count": 0,
      "outputs": []
    },
    {
      "metadata": {
        "id": "8folap-AiiBW",
        "colab_type": "code",
        "colab": {
          "autoexec": {
            "startup": false,
            "wait_interval": 0
          },
          "output_extras": [
            {
              "item_id": 1
            },
            {
              "item_id": 2
            }
          ],
          "resources": {
            "http://localhost:8080/nbextensions/google.colab/files.js": {
              "data": "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",
              "ok": true,
              "headers": [
                [
                  "content-type",
                  "application/javascript"
                ]
              ],
              "status": 200,
              "status_text": ""
            }
          },
          "base_uri": "https://localhost:8080/",
          "height": 69
        },
        "outputId": "7f38b858-c0d4-4cc6-c142-df29662a51c6",
        "executionInfo": {
          "status": "ok",
          "timestamp": 1517834864022,
          "user_tz": -60,
          "elapsed": 47019,
          "user": {
            "displayName": "Amadeus Magrabi",
            "photoUrl": "//lh6.googleusercontent.com/-GmOmTR4RGhE/AAAAAAAAAAI/AAAAAAAAAoc/jLVT34KD7Fw/s50-c-k-no/photo.jpg",
            "userId": "103763821960183476461"
          }
        }
      },
      "cell_type": "code",
      "source": [
        "from google.colab import files\n",
        "\n",
        "uploaded = files.upload()\n",
        "\n",
        "for fn in uploaded.keys():\n",
        "  print('User uploaded file \"{name}\" with length {length} bytes'.format(\n",
        "      name=fn, length=len(uploaded[fn])))\n",
        "  \n",
        "tweets_csv = pd.compat.StringIO(uploaded['tweets.csv'])\n",
        "\n",
        "df = pd.read_csv(tweets_csv)"
      ],
      "execution_count": 4,
      "outputs": [
        {
          "output_type": "display_data",
          "data": {
            "text/plain": [
              "<IPython.core.display.HTML object>"
            ],
            "text/html": [
              "\n",
              "     <input type=\"file\" id=\"files-fe025ee1-c1b3-448a-8633-ac0c01356680\" name=\"files[]\" multiple disabled />\n",
              "     <output id=\"result-fe025ee1-c1b3-448a-8633-ac0c01356680\">\n",
              "      Upload widget is only available when the cell has been executed in the\n",
              "      current browser session. Please rerun this cell to enable.\n",
              "      </output>\n",
              "      <script src=\"/nbextensions/google.colab/files.js\"</script> "
            ]
          },
          "metadata": {
            "tags": []
          }
        },
        {
          "output_type": "stream",
          "text": [
            "User uploaded file \"tweets.csv\" with length 4902648 bytes\n"
          ],
          "name": "stdout"
        }
      ]
    },
    {
      "metadata": {
        "id": "qkO68gXocFd_",
        "colab_type": "code",
        "colab": {
          "autoexec": {
            "startup": false,
            "wait_interval": 0
          }
        }
      },
      "cell_type": "code",
      "source": [
        "# df = pd.read_csv('./tweets.csv')\n",
        "df.date = pd.to_datetime(df.date)\n",
        "df = df[~df.text.str.startswith('rt ')]\n",
        "df = df[~df.text.str.startswith('RT')]"
      ],
      "execution_count": 0,
      "outputs": []
    },
    {
      "metadata": {
        "id": "YE8SH_IxcFeC",
        "colab_type": "code",
        "colab": {
          "autoexec": {
            "startup": false,
            "wait_interval": 0
          },
          "output_extras": [
            {
              "item_id": 1
            }
          ],
          "base_uri": "https://localhost:8080/",
          "height": 204
        },
        "outputId": "7d38104c-6dc5-4001-86c7-c59f64877f56",
        "executionInfo": {
          "status": "ok",
          "timestamp": 1517834869991,
          "user_tz": -60,
          "elapsed": 471,
          "user": {
            "displayName": "Amadeus Magrabi",
            "photoUrl": "//lh6.googleusercontent.com/-GmOmTR4RGhE/AAAAAAAAAAI/AAAAAAAAAoc/jLVT34KD7Fw/s50-c-k-no/photo.jpg",
            "userId": "103763821960183476461"
          }
        }
      },
      "cell_type": "code",
      "source": [
        "df.head()"
      ],
      "execution_count": 6,
      "outputs": [
        {
          "output_type": "execute_result",
          "data": {
            "text/html": [
              "<div>\n",
              "<style scoped>\n",
              "    .dataframe tbody tr th:only-of-type {\n",
              "        vertical-align: middle;\n",
              "    }\n",
              "\n",
              "    .dataframe tbody tr th {\n",
              "        vertical-align: top;\n",
              "    }\n",
              "\n",
              "    .dataframe thead th {\n",
              "        text-align: right;\n",
              "    }\n",
              "</style>\n",
              "<table border=\"1\" class=\"dataframe\">\n",
              "  <thead>\n",
              "    <tr style=\"text-align: right;\">\n",
              "      <th></th>\n",
              "      <th>Unnamed: 0</th>\n",
              "      <th>date</th>\n",
              "      <th>text</th>\n",
              "      <th>author</th>\n",
              "    </tr>\n",
              "  </thead>\n",
              "  <tbody>\n",
              "    <tr>\n",
              "      <th>0</th>\n",
              "      <td>0</td>\n",
              "      <td>2016-10-14</td>\n",
              "      <td>Denying climate change is dangerous. Join @OFA...</td>\n",
              "      <td>BarackObama</td>\n",
              "    </tr>\n",
              "    <tr>\n",
              "      <th>1</th>\n",
              "      <td>1</td>\n",
              "      <td>2016-10-14</td>\n",
              "      <td>The American Bar Association gave Judge Garlan...</td>\n",
              "      <td>BarackObama</td>\n",
              "    </tr>\n",
              "    <tr>\n",
              "      <th>2</th>\n",
              "      <td>2</td>\n",
              "      <td>2016-10-14</td>\n",
              "      <td>We need a fully functional Supreme Court. Edit...</td>\n",
              "      <td>BarackObama</td>\n",
              "    </tr>\n",
              "    <tr>\n",
              "      <th>3</th>\n",
              "      <td>3</td>\n",
              "      <td>2016-10-14</td>\n",
              "      <td>Cynics, take note: When we #ActOnClimate, we b...</td>\n",
              "      <td>BarackObama</td>\n",
              "    </tr>\n",
              "    <tr>\n",
              "      <th>4</th>\n",
              "      <td>4</td>\n",
              "      <td>2016-10-13</td>\n",
              "      <td>\"That’s how we will overcome the challenges we...</td>\n",
              "      <td>BarackObama</td>\n",
              "    </tr>\n",
              "  </tbody>\n",
              "</table>\n",
              "</div>"
            ],
            "text/plain": [
              "   Unnamed: 0       date                                               text  \\\n",
              "0           0 2016-10-14  Denying climate change is dangerous. Join @OFA...   \n",
              "1           1 2016-10-14  The American Bar Association gave Judge Garlan...   \n",
              "2           2 2016-10-14  We need a fully functional Supreme Court. Edit...   \n",
              "3           3 2016-10-14  Cynics, take note: When we #ActOnClimate, we b...   \n",
              "4           4 2016-10-13  \"That’s how we will overcome the challenges we...   \n",
              "\n",
              "        author  \n",
              "0  BarackObama  \n",
              "1  BarackObama  \n",
              "2  BarackObama  \n",
              "3  BarackObama  \n",
              "4  BarackObama  "
            ]
          },
          "metadata": {
            "tags": []
          },
          "execution_count": 6
        }
      ]
    },
    {
      "metadata": {
        "id": "xq8QurkXcFeH",
        "colab_type": "code",
        "colab": {
          "autoexec": {
            "startup": false,
            "wait_interval": 0
          },
          "output_extras": [
            {
              "item_id": 1
            }
          ],
          "base_uri": "https://localhost:8080/",
          "height": 102
        },
        "outputId": "b94eb797-69a0-4b33-806e-cd544aff2d46",
        "executionInfo": {
          "status": "ok",
          "timestamp": 1517779005974,
          "user_tz": 480,
          "elapsed": 257,
          "user": {
            "displayName": "Nate Tucker",
            "photoUrl": "https://lh3.googleusercontent.com/a/default-user=s128",
            "userId": "111608333972400226084"
          }
        }
      },
      "cell_type": "code",
      "source": [
        "df.groupby('author').author.count()"
      ],
      "execution_count": 6,
      "outputs": [
        {
          "output_type": "execute_result",
          "data": {
            "text/plain": [
              "author\n",
              "BarackObama        9126\n",
              "DonaldTrump       14310\n",
              "HillaryClinton     5654\n",
              "Name: author, dtype: int64"
            ]
          },
          "metadata": {
            "tags": []
          },
          "execution_count": 6
        }
      ]
    },
    {
      "metadata": {
        "id": "kHl-o_QcjbC0",
        "colab_type": "code",
        "colab": {
          "autoexec": {
            "startup": false,
            "wait_interval": 0
          },
          "output_extras": [
            {
              "item_id": 1
            },
            {
              "item_id": 2
            }
          ],
          "base_uri": "https://localhost:8080/",
          "height": 282
        },
        "outputId": "f9e33cf7-3d68-4cc3-c5ee-f5b33cebf13a",
        "executionInfo": {
          "status": "ok",
          "timestamp": 1517779007384,
          "user_tz": 480,
          "elapsed": 364,
          "user": {
            "displayName": "Nate Tucker",
            "photoUrl": "https://lh3.googleusercontent.com/a/default-user=s128",
            "userId": "111608333972400226084"
          }
        }
      },
      "cell_type": "code",
      "source": [
        "df.date.hist()"
      ],
      "execution_count": 7,
      "outputs": [
        {
          "output_type": "execute_result",
          "data": {
            "text/plain": [
              "<matplotlib.axes._subplots.AxesSubplot at 0x7f7608108c90>"
            ]
          },
          "metadata": {
            "tags": []
          },
          "execution_count": 7
        },
        {
          "output_type": "display_data",
          "data": {
            "image/png": "[encoded data removed]",
            "text/plain": [
              "<matplotlib.figure.Figure at 0x7f7608108610>"
            ]
          },
          "metadata": {
            "tags": []
          }
        }
      ]
    },
    {
      "metadata": {
        "id": "ToHNxQGScFeL",
        "colab_type": "text"
      },
      "cell_type": "markdown",
      "source": [
        "## Distinguish between tweet authors\n",
        "\n",
        "Two approaches:\n",
        "\n",
        "1. Look for most distinguishing words (aka learn the most important features)\n",
        "2. Construct features and use a decision tree (aka hand craft features and learn which are the most important)"
      ]
    },
    {
      "metadata": {
        "id": "OO7dqIuUcFeS",
        "colab_type": "code",
        "colab": {
          "autoexec": {
            "startup": false,
            "wait_interval": 0
          }
        }
      },
      "cell_type": "code",
      "source": [
        "from sklearn.feature_extraction.text import CountVectorizer"
      ],
      "execution_count": 0,
      "outputs": []
    },
    {
      "metadata": {
        "id": "oeGa5ho1cFeM",
        "colab_type": "code",
        "colab": {
          "autoexec": {
            "startup": false,
            "wait_interval": 0
          }
        }
      },
      "cell_type": "code",
      "source": [
        "def get_most_indicative(author, n=20, min_df=100):\n",
        "    # make a bag of words of the full text with high freq words\n",
        "    cv_full = CountVectorizer(min_df=min_df, stop_words='english')\n",
        "    full_text = cv_full.fit_transform(df.text)\n",
        "    full_vocab_use = full_text.sum(0).astype('float64')\n",
        "    \n",
        "    # make a bag for one author\n",
        "    df_a  = df[df.author == author]\n",
        "    a_text = cv_full.transform(df_a.text)\n",
        "    a_vocab_use = a_text.sum(0).astype('float64')\n",
        "    \n",
        "    # find that author's relative word use\n",
        "    a_relative_vocab_use = a_vocab_use / full_vocab_use\n",
        "    a_relative_vocab_use = np.array(a_relative_vocab_use).reshape(-1)\n",
        "    \n",
        "    # make a dict from index to word\n",
        "    rev_vocab = dict([ (v, k) for k, v in cv_full.vocabulary_.iteritems( ) ])\n",
        "    \n",
        "    # find the most indicative and most used for this author\n",
        "    a_most_indicative = np.argsort(-a_relative_vocab_use)\n",
        "    a_most_used = np.argsort(-a_vocab_use)\n",
        "    \n",
        "    most_indicative = []\n",
        "    most_used = []\n",
        "    for i in range(n):\n",
        "        mi = (rev_vocab[a_most_indicative[i]], a_vocab_use[0, a_most_indicative[i]], full_vocab_use[0, a_most_indicative[i]])\n",
        "        most_indicative.append(mi)\n",
        "        \n",
        "        mu = (rev_vocab[a_most_used[0, i]], a_vocab_use[0, a_most_used[0, i]], full_vocab_use[0, a_most_used[0, i]])\n",
        "        most_used.append(mu)\n",
        "        \n",
        "    return most_indicative, most_used\n",
        "        \n",
        "      "
      ],
      "execution_count": 0,
      "outputs": []
    },
    {
      "metadata": {
        "id": "eY1o6_VNjkFD",
        "colab_type": "code",
        "colab": {
          "autoexec": {
            "startup": false,
            "wait_interval": 0
          },
          "output_extras": [
            {
              "item_id": 1
            }
          ],
          "base_uri": "https://localhost:8080/",
          "height": 105
        },
        "outputId": "19dddd46-37d7-4102-f8a8-df6d088d7214",
        "executionInfo": {
          "status": "ok",
          "timestamp": 1517779011878,
          "user_tz": 480,
          "elapsed": 1173,
          "user": {
            "displayName": "Nate Tucker",
            "photoUrl": "https://lh3.googleusercontent.com/a/default-user=s128",
            "userId": "111608333972400226084"
          }
        }
      },
      "cell_type": "code",
      "source": [
        "mi, mu = get_most_indicative('BarackObama', n=7)\n",
        "\n",
        "print 'Most indicative'\n",
        "print mi\n",
        "\n",
        "print 'Most used'\n",
        "print mu"
      ],
      "execution_count": 10,
      "outputs": [
        {
          "output_type": "stream",
          "text": [
            "Most indicative\n",
            "[(u'getcovered', 139.0, 139.0), (u'raisethewage', 117.0, 117.0), (u'ofa', 2724.0, 2724.0), (u'obama2012', 108.0, 108.0), (u'bo', 2622.0, 2623.0), (u'actonclimate', 414.0, 415.0), (u'doyourjob', 168.0, 169.0)]\n",
            "Most used\n",
            "[(u'http', 4296.0, 6616.0), (u'president', 3442.0, 4522.0), (u'obama', 3049.0, 4242.0), (u'ofa', 2724.0, 2724.0), (u'bo', 2622.0, 2623.0), (u'com', 1484.0, 4846.0), (u'twitter', 1379.0, 3278.0)]\n"
          ],
          "name": "stdout"
        }
      ]
    },
    {
      "metadata": {
        "id": "yVNSjXJ5jj6o",
        "colab_type": "code",
        "colab": {
          "autoexec": {
            "startup": false,
            "wait_interval": 0
          },
          "output_extras": [
            {
              "item_id": 1
            }
          ],
          "base_uri": "https://localhost:8080/",
          "height": 105
        },
        "outputId": "96a7a6b1-da2b-42a1-a28b-a16311156c74",
        "executionInfo": {
          "status": "ok",
          "timestamp": 1517779013763,
          "user_tz": 480,
          "elapsed": 1033,
          "user": {
            "displayName": "Nate Tucker",
            "photoUrl": "https://lh3.googleusercontent.com/a/default-user=s128",
            "userId": "111608333972400226084"
          }
        }
      },
      "cell_type": "code",
      "source": [
        "mi, mu = get_most_indicative('HillaryClinton', n=7)\n",
        "\n",
        "print 'Most indicative'\n",
        "print mi\n",
        "\n",
        "print 'Most used'\n",
        "print mu"
      ],
      "execution_count": 11,
      "outputs": [
        {
          "output_type": "stream",
          "text": [
            "Most indicative\n",
            "[(u'io', 446.0, 447.0), (u'hrc', 455.0, 461.0), (u'twimg', 547.0, 575.0), (u'flotus', 100.0, 137.0), (u'hillary', 1280.0, 1772.0), (u'status', 151.0, 221.0), (u'rights', 168.0, 252.0)]\n",
            "Most used\n",
            "[(u'https', 2517.0, 5469.0), (u'com', 1908.0, 4846.0), (u'twitter', 1286.0, 3278.0), (u'hillary', 1280.0, 1772.0), (u'trump', 1118.0, 2488.0), (u'pic', 870.0, 2146.0), (u'amp', 673.0, 1144.0)]\n"
          ],
          "name": "stdout"
        }
      ]
    },
    {
      "metadata": {
        "id": "aXqd00KrjnE-",
        "colab_type": "code",
        "colab": {
          "autoexec": {
            "startup": false,
            "wait_interval": 0
          },
          "output_extras": [
            {
              "item_id": 1
            }
          ],
          "base_uri": "https://localhost:8080/",
          "height": 105
        },
        "outputId": "d9941b58-4535-479b-ad3e-f77d278bc256",
        "executionInfo": {
          "status": "ok",
          "timestamp": 1517779015523,
          "user_tz": 480,
          "elapsed": 1197,
          "user": {
            "displayName": "Nate Tucker",
            "photoUrl": "https://lh3.googleusercontent.com/a/default-user=s128",
            "userId": "111608333972400226084"
          }
        }
      },
      "cell_type": "code",
      "source": [
        "mi, mu = get_most_indicative('DonaldTrump', n=7)\n",
        "\n",
        "print 'Most indicative'\n",
        "print mi\n",
        "\n",
        "print 'Most used'\n",
        "print mu"
      ],
      "execution_count": 12,
      "outputs": [
        {
          "output_type": "stream",
          "text": [
            "Most indicative\n",
            "[(u'cont', 253.0, 253.0), (u'makeamericagreatagain', 141.0, 141.0), (u'crooked', 210.0, 210.0), (u'celebrity', 116.0, 116.0), (u'foxandfriends', 131.0, 131.0), (u'trump2016', 109.0, 109.0), (u'foxnews', 154.0, 154.0)]\n",
            "Most used\n",
            "[(u'great', 1894.0, 2136.0), (u'http', 1766.0, 6616.0), (u'https', 1688.0, 5469.0), (u'com', 1454.0, 4846.0), (u'trump', 1370.0, 2488.0), (u'obama', 1130.0, 4242.0), (u'just', 1053.0, 1673.0)]\n"
          ],
          "name": "stdout"
        }
      ]
    },
    {
      "metadata": {
        "id": "4LPCKsxYi_FI",
        "colab_type": "text"
      },
      "cell_type": "markdown",
      "source": [
        "# Decision Tree and Visualization \n",
        "\n",
        "Preprocessing - by hand\n",
        "\n",
        "- lowercase\n",
        "- rid special chars (except #)\n",
        "- rid punctuation\n",
        "- rid stop words\n",
        "- remove links\n",
        "\n",
        "Feature Engineering and Classification with Sklearn \n",
        "\n",
        "- create bigrams and unigrams\n",
        "- remove words occuring < 3 times\n",
        "- remove terms in 25% of all docs\n",
        "\n"
      ]
    },
    {
      "metadata": {
        "id": "ANtooQhzcFeV",
        "colab_type": "code",
        "colab": {
          "autoexec": {
            "startup": false,
            "wait_interval": 0
          },
          "output_extras": [
            {
              "item_id": 1
            }
          ],
          "base_uri": "https://localhost:8080/",
          "height": 34
        },
        "outputId": "f06591ec-dbab-43d6-c91c-1c01f6b8f82d",
        "executionInfo": {
          "status": "ok",
          "timestamp": 1517779017461,
          "user_tz": 480,
          "elapsed": 231,
          "user": {
            "displayName": "Nate Tucker",
            "photoUrl": "https://lh3.googleusercontent.com/a/default-user=s128",
            "userId": "111608333972400226084"
          }
        }
      },
      "cell_type": "code",
      "source": [
        "import string\n",
        "punc = string.punctuation.replace('#', '')\n",
        "punc = punc.replace('@', '')\n",
        "# punc += '—'\n",
        "# punc += '”'\n",
        "# punc += '“' \n",
        "# punc += '…' \n",
        "# punc += '‘'\n",
        "\n",
        "punc"
      ],
      "execution_count": 13,
      "outputs": [
        {
          "output_type": "execute_result",
          "data": {
            "text/plain": [
              "'!\"$%&\\'()*+,-./:;<=>?[\\\\]^_`{|}~'"
            ]
          },
          "metadata": {
            "tags": []
          },
          "execution_count": 13
        }
      ]
    },
    {
      "metadata": {
        "id": "gpondO64cFeZ",
        "colab_type": "code",
        "colab": {
          "autoexec": {
            "startup": false,
            "wait_interval": 0
          }
        }
      },
      "cell_type": "code",
      "source": [
        "def preprocess(x): \n",
        "    x = x.lower()\n",
        "    #replace links \n",
        "    for word in x.split(): \n",
        "        if 'pic.twitter' in word:\n",
        "            x = x.replace(word, '')\n",
        "        if 'http' in word: \n",
        "            x = x.replace(word, '') \n",
        "    #replace special chars \n",
        "    for char in punc: \n",
        "        x = x.replace(char, '')\n",
        "    x = ' '.join(x.split()) #get rid of white spaces \n",
        "\n",
        "    return x\n",
        "    \n",
        "df['process_text'] = df.text.apply(preprocess)"
      ],
      "execution_count": 0,
      "outputs": []
    },
    {
      "metadata": {
        "id": "5KzKQExtcFeb",
        "colab_type": "code",
        "colab": {
          "autoexec": {
            "startup": false,
            "wait_interval": 0
          },
          "output_extras": [
            {
              "item_id": 1
            },
            {
              "item_id": 2
            }
          ],
          "base_uri": "https://localhost:8080/",
          "height": 128
        },
        "outputId": "ce7fc32a-5181-437c-afe0-e7174e441550",
        "executionInfo": {
          "status": "ok",
          "timestamp": 1517779019830,
          "user_tz": 480,
          "elapsed": 226,
          "user": {
            "displayName": "Nate Tucker",
            "photoUrl": "https://lh3.googleusercontent.com/a/default-user=s128",
            "userId": "111608333972400226084"
          }
        }
      },
      "cell_type": "code",
      "source": [
        "print (df.shape)\n",
        "df.head(2)"
      ],
      "execution_count": 15,
      "outputs": [
        {
          "output_type": "stream",
          "text": [
            "(29090, 5)\n"
          ],
          "name": "stdout"
        },
        {
          "output_type": "execute_result",
          "data": {
            "text/html": [
              "<div>\n",
              "<style scoped>\n",
              "    .dataframe tbody tr th:only-of-type {\n",
              "        vertical-align: middle;\n",
              "    }\n",
              "\n",
              "    .dataframe tbody tr th {\n",
              "        vertical-align: top;\n",
              "    }\n",
              "\n",
              "    .dataframe thead th {\n",
              "        text-align: right;\n",
              "    }\n",
              "</style>\n",
              "<table border=\"1\" class=\"dataframe\">\n",
              "  <thead>\n",
              "    <tr style=\"text-align: right;\">\n",
              "      <th></th>\n",
              "      <th>Unnamed: 0</th>\n",
              "      <th>date</th>\n",
              "      <th>text</th>\n",
              "      <th>author</th>\n",
              "      <th>process_text</th>\n",
              "    </tr>\n",
              "  </thead>\n",
              "  <tbody>\n",
              "    <tr>\n",
              "      <th>0</th>\n",
              "      <td>0</td>\n",
              "      <td>2016-10-14</td>\n",
              "      <td>Denying climate change is dangerous. Join @OFA...</td>\n",
              "      <td>BarackObama</td>\n",
              "      <td>denying climate change is dangerous join @ofa ...</td>\n",
              "    </tr>\n",
              "    <tr>\n",
              "      <th>1</th>\n",
              "      <td>1</td>\n",
              "      <td>2016-10-14</td>\n",
              "      <td>The American Bar Association gave Judge Garlan...</td>\n",
              "      <td>BarackObama</td>\n",
              "      <td>the american bar association gave judge garlan...</td>\n",
              "    </tr>\n",
              "  </tbody>\n",
              "</table>\n",
              "</div>"
            ],
            "text/plain": [
              "   Unnamed: 0       date                                               text  \\\n",
              "0           0 2016-10-14  Denying climate change is dangerous. Join @OFA...   \n",
              "1           1 2016-10-14  The American Bar Association gave Judge Garlan...   \n",
              "\n",
              "        author                                       process_text  \n",
              "0  BarackObama  denying climate change is dangerous join @ofa ...  \n",
              "1  BarackObama  the american bar association gave judge garlan...  "
            ]
          },
          "metadata": {
            "tags": []
          },
          "execution_count": 15
        }
      ]
    },
    {
      "metadata": {
        "id": "w9k4VcSgcFed",
        "colab_type": "code",
        "colab": {
          "autoexec": {
            "startup": false,
            "wait_interval": 0
          },
          "output_extras": [
            {
              "item_id": 1
            }
          ],
          "base_uri": "https://localhost:8080/",
          "height": 204
        },
        "outputId": "806ea7ae-6ab4-4a9c-eefb-cab034b8f8a5",
        "executionInfo": {
          "status": "ok",
          "timestamp": 1517779023281,
          "user_tz": 480,
          "elapsed": 2607,
          "user": {
            "displayName": "Nate Tucker",
            "photoUrl": "https://lh3.googleusercontent.com/a/default-user=s128",
            "userId": "111608333972400226084"
          }
        }
      },
      "cell_type": "code",
      "source": [
        "### word counts ### \n",
        "\n",
        "from sklearn.feature_extraction.text import CountVectorizer\n",
        "from sklearn.feature_extraction.text import TfidfTransformer\n",
        "\n",
        "cvec = CountVectorizer(stop_words='english', min_df=4, max_df=.25, ngram_range=(1,2))\n",
        "cvec.fit(df.process_text)\n",
        "cvec_counts = cvec.transform(df.process_text)\n",
        "occ = np.asarray(cvec_counts.sum(axis=0)).ravel().tolist()\n",
        "counts_df = pd.DataFrame({'term': cvec.get_feature_names(), 'occurrences': occ})\n",
        "counts_df.sort_values(by='occurrences', ascending=False).head()"
      ],
      "execution_count": 16,
      "outputs": [
        {
          "output_type": "execute_result",
          "data": {
            "text/html": [
              "<div>\n",
              "<style scoped>\n",
              "    .dataframe tbody tr th:only-of-type {\n",
              "        vertical-align: middle;\n",
              "    }\n",
              "\n",
              "    .dataframe tbody tr th {\n",
              "        vertical-align: top;\n",
              "    }\n",
              "\n",
              "    .dataframe thead th {\n",
              "        text-align: right;\n",
              "    }\n",
              "</style>\n",
              "<table border=\"1\" class=\"dataframe\">\n",
              "  <thead>\n",
              "    <tr style=\"text-align: right;\">\n",
              "      <th></th>\n",
              "      <th>occurrences</th>\n",
              "      <th>term</th>\n",
              "    </tr>\n",
              "  </thead>\n",
              "  <tbody>\n",
              "    <tr>\n",
              "      <th>9159</th>\n",
              "      <td>4361</td>\n",
              "      <td>president</td>\n",
              "    </tr>\n",
              "    <tr>\n",
              "      <th>8064</th>\n",
              "      <td>3934</td>\n",
              "      <td>obama</td>\n",
              "    </tr>\n",
              "    <tr>\n",
              "      <th>9196</th>\n",
              "      <td>2892</td>\n",
              "      <td>president obama</td>\n",
              "    </tr>\n",
              "    <tr>\n",
              "      <th>4954</th>\n",
              "      <td>2092</td>\n",
              "      <td>great</td>\n",
              "    </tr>\n",
              "    <tr>\n",
              "      <th>12123</th>\n",
              "      <td>1990</td>\n",
              "      <td>trump</td>\n",
              "    </tr>\n",
              "  </tbody>\n",
              "</table>\n",
              "</div>"
            ],
            "text/plain": [
              "       occurrences             term\n",
              "9159          4361        president\n",
              "8064          3934            obama\n",
              "9196          2892  president obama\n",
              "4954          2092            great\n",
              "12123         1990            trump"
            ]
          },
          "metadata": {
            "tags": []
          },
          "execution_count": 16
        }
      ]
    },
    {
      "metadata": {
        "id": "UPI5kWqRcFeg",
        "colab_type": "code",
        "colab": {
          "autoexec": {
            "startup": false,
            "wait_interval": 0
          },
          "output_extras": [
            {
              "item_id": 1
            },
            {
              "item_id": 2
            }
          ],
          "base_uri": "https://localhost:8080/",
          "height": 231
        },
        "outputId": "1f8fce20-9f3c-4ec4-8aae-1a315764149c",
        "executionInfo": {
          "status": "ok",
          "timestamp": 1517779041751,
          "user_tz": 480,
          "elapsed": 17691,
          "user": {
            "displayName": "Nate Tucker",
            "photoUrl": "https://lh3.googleusercontent.com/a/default-user=s128",
            "userId": "111608333972400226084"
          }
        }
      },
      "cell_type": "code",
      "source": [
        "top_terms = counts_df.sort_values(by='occurrences', ascending=False)[:100].term.values\n",
        "\n",
        "def generate_features(text): \n",
        "    one_hot = np.zeros(shape=top_terms.shape, dtype=int)\n",
        "    for i, term in enumerate(top_terms): \n",
        "        for word in text.split(): \n",
        "            if word == term:\n",
        "                one_hot[i] = 1\n",
        "    return one_hot\n",
        "\n",
        "temp = df.process_text.apply(generate_features)\n",
        "temp = temp.apply(lambda x: pd.Series(x)) #split the vector into columns \n",
        "temp.columns = top_terms #rename \n",
        "df_feat = df.join(temp) \n",
        "df_feat.head(1) #spot check"
      ],
      "execution_count": 17,
      "outputs": [
        {
          "output_type": "stream",
          "text": [
            "/usr/local/lib/python2.7/dist-packages/ipykernel_launcher.py:7: UnicodeWarning: Unicode equal comparison failed to convert both arguments to Unicode - interpreting them as being unequal\n",
            "  import sys\n"
          ],
          "name": "stderr"
        },
        {
          "output_type": "execute_result",
          "data": {
            "text/html": [
              "<div>\n",
              "<style scoped>\n",
              "    .dataframe tbody tr th:only-of-type {\n",
              "        vertical-align: middle;\n",
              "    }\n",
              "\n",
              "    .dataframe tbody tr th {\n",
              "        vertical-align: top;\n",
              "    }\n",
              "\n",
              "    .dataframe thead th {\n",
              "        text-align: right;\n",
              "    }\n",
              "</style>\n",
              "<table border=\"1\" class=\"dataframe\">\n",
              "  <thead>\n",
              "    <tr style=\"text-align: right;\">\n",
              "      <th></th>\n",
              "      <th>Unnamed: 0</th>\n",
              "      <th>date</th>\n",
              "      <th>text</th>\n",
              "      <th>author</th>\n",
              "      <th>process_text</th>\n",
              "      <th>president</th>\n",
              "      <th>obama</th>\n",
              "      <th>president obama</th>\n",
              "      <th>great</th>\n",
              "      <th>trump</th>\n",
              "      <th>...</th>\n",
              "      <th>don</th>\n",
              "      <th>romney</th>\n",
              "      <th>youre</th>\n",
              "      <th>house</th>\n",
              "      <th>bad</th>\n",
              "      <th>join</th>\n",
              "      <th>did</th>\n",
              "      <th>potus</th>\n",
              "      <th>making</th>\n",
              "      <th>republicans</th>\n",
              "    </tr>\n",
              "  </thead>\n",
              "  <tbody>\n",
              "    <tr>\n",
              "      <th>0</th>\n",
              "      <td>0</td>\n",
              "      <td>2016-10-14</td>\n",
              "      <td>Denying climate change is dangerous. Join @OFA...</td>\n",
              "      <td>BarackObama</td>\n",
              "      <td>denying climate change is dangerous join @ofa ...</td>\n",
              "      <td>0</td>\n",
              "      <td>0</td>\n",
              "      <td>0</td>\n",
              "      <td>0</td>\n",
              "      <td>0</td>\n",
              "      <td>...</td>\n",
              "      <td>0</td>\n",
              "      <td>0</td>\n",
              "      <td>0</td>\n",
              "      <td>0</td>\n",
              "      <td>0</td>\n",
              "      <td>1</td>\n",
              "      <td>0</td>\n",
              "      <td>0</td>\n",
              "      <td>0</td>\n",
              "      <td>0</td>\n",
              "    </tr>\n",
              "  </tbody>\n",
              "</table>\n",
              "<p>1 rows × 105 columns</p>\n",
              "</div>"
            ],
            "text/plain": [
              "   Unnamed: 0       date                                               text  \\\n",
              "0           0 2016-10-14  Denying climate change is dangerous. Join @OFA...   \n",
              "\n",
              "        author                                       process_text  president  \\\n",
              "0  BarackObama  denying climate change is dangerous join @ofa ...          0   \n",
              "\n",
              "   obama  president obama  great  trump     ...       don  romney  youre  \\\n",
              "0      0                0      0      0     ...         0       0      0   \n",
              "\n",
              "   house  bad  join  did  potus  making  republicans  \n",
              "0      0    0     1    0      0       0            0  \n",
              "\n",
              "[1 rows x 105 columns]"
            ]
          },
          "metadata": {
            "tags": []
          },
          "execution_count": 17
        }
      ]
    },
    {
      "metadata": {
        "id": "GH5PVWSfi0q0",
        "colab_type": "text"
      },
      "cell_type": "markdown",
      "source": [
        "\n",
        "Decision Tree + Visualization"
      ]
    },
    {
      "metadata": {
        "id": "pX8DE6vkcFel",
        "colab_type": "code",
        "colab": {
          "autoexec": {
            "startup": false,
            "wait_interval": 0
          }
        }
      },
      "cell_type": "code",
      "source": [
        "from sklearn.model_selection import cross_val_score\n",
        "from sklearn import tree\n",
        "\n",
        "df_TREE = df_feat #[df_feat.author != 'HillaryClinton']\n",
        "\n",
        "### Cross Val Decision Tree ### \n",
        "# clf = tree.DecisionTreeClassifier(random_state=0)\n",
        "# scores = cross_val_score(clf, df_TREE.iloc[:, 4:], df_TREE.author, cv=10)\n",
        "# print(\"Accuracy: %0.2f (+/- %0.2f)\" % (scores.mean(), scores.std() * 2))\n",
        "# print (scores)\n",
        "\n",
        "### Decision Tree for Visualization ###\n",
        "\n",
        "split =  int(df_TREE.shape[0]* 0.9)\n",
        "\n",
        "clf = tree.DecisionTreeClassifier(random_state=0, \n",
        "                                 max_depth=3, #low for visibility \n",
        "                                 criterion = 'entropy')\n",
        "\n",
        "clf = clf.fit(X = df_TREE.iloc[:split, 5:],\n",
        "              y = df_TREE.author[:split])\n",
        "\n",
        "### Visualize ###\n",
        "dotfile = open(\"dtree2.dot\", 'w')\n",
        "tree.export_graphviz(clf, out_file = dotfile, feature_names = df_TREE.iloc[:, 5:].columns)\n",
        "dotfile.close()"
      ],
      "execution_count": 0,
      "outputs": []
    },
    {
      "metadata": {
        "id": "ZKhdcYshnYHg",
        "colab_type": "code",
        "colab": {
          "autoexec": {
            "startup": false,
            "wait_interval": 0
          },
          "output_extras": [
            {
              "item_id": 1
            }
          ],
          "base_uri": "https://localhost:8080/",
          "height": 534
        },
        "outputId": "89a0fa72-b951-4f0f-8c68-801d38f68e12",
        "executionInfo": {
          "status": "ok",
          "timestamp": 1517779044918,
          "user_tz": 480,
          "elapsed": 674,
          "user": {
            "displayName": "Nate Tucker",
            "photoUrl": "https://lh3.googleusercontent.com/a/default-user=s128",
            "userId": "111608333972400226084"
          }
        }
      },
      "cell_type": "code",
      "source": [
        "import pydot\n",
        "from IPython.display import Image \n",
        "\n",
        "(graph,) = pydot.graph_from_dot_file('dtree2.dot')\n",
        "graph.write_png('tree.png')\n",
        "\n",
        "Image(filename='tree.png')"
      ],
      "execution_count": 19,
      "outputs": [
        {
          "output_type": "execute_result",
          "data": {
            "image/png": "[encoded data removed]",
            "text/plain": [
              "<IPython.core.display.Image object>"
            ]
          },
          "metadata": {
            "tags": []
          },
          "execution_count": 19
        }
      ]
    },
    {
      "metadata": {
        "id": "dkR77y-7qLGZ",
        "colab_type": "text"
      },
      "cell_type": "markdown",
      "source": [
        "## Test generation\n",
        "\n",
        "Let's try to generate some text in the style of the authors. We will try two approaches:\n",
        "\n",
        "1. A markov model"
      ]
    },
    {
      "metadata": {
        "id": "z981KtjZcFfu",
        "colab_type": "code",
        "colab": {
          "autoexec": {
            "startup": false,
            "wait_interval": 0
          }
        }
      },
      "cell_type": "code",
      "source": [
        "import markovify"
      ],
      "execution_count": 0,
      "outputs": []
    },
    {
      "metadata": {
        "id": "hrh8lNL0cFfw",
        "colab_type": "code",
        "colab": {
          "autoexec": {
            "startup": false,
            "wait_interval": 0
          }
        }
      },
      "cell_type": "code",
      "source": [
        "def model_author(author):\n",
        "\n",
        "    df_author  = df[df.author == author]\n",
        "    author_text = '.'.join(df_author.text.tolist())\n",
        "    \n",
        "    text_model = markovify.Text(author_text)\n",
        "    return text_model"
      ],
      "execution_count": 0,
      "outputs": []
    },
    {
      "metadata": {
        "id": "PRw9O8eGcFfz",
        "colab_type": "code",
        "colab": {
          "autoexec": {
            "startup": false,
            "wait_interval": 0
          },
          "output_extras": [
            {
              "item_id": 1
            }
          ],
          "base_uri": "https://localhost:8080/",
          "height": 68
        },
        "outputId": "2a4e4f5f-7c74-469c-d408-da1845a388c5",
        "executionInfo": {
          "status": "ok",
          "timestamp": 1517779052926,
          "user_tz": 480,
          "elapsed": 800,
          "user": {
            "displayName": "Nate Tucker",
            "photoUrl": "https://lh3.googleusercontent.com/a/default-user=s128",
            "userId": "111608333972400226084"
          }
        }
      },
      "cell_type": "code",
      "source": [
        "obama_bot = model_author('BarackObama')\n",
        "\n",
        "for i in range(3):\n",
        "    print(obama_bot.make_short_sentence(140))"
      ],
      "execution_count": 22,
      "outputs": [
        {
          "output_type": "stream",
          "text": [
            "Watch live: http://wh.gov/live .Ever wonder what a consensus looks like.\n",
            "#ACA.FACT: President Obama’s last birthday in office extra special.\n",
            "The President has done for us.\n"
          ],
          "name": "stdout"
        }
      ]
    },
    {
      "metadata": {
        "id": "sWeRmY_-cFf1",
        "colab_type": "code",
        "colab": {
          "autoexec": {
            "startup": false,
            "wait_interval": 0
          },
          "output_extras": [
            {
              "item_id": 1
            }
          ],
          "base_uri": "https://localhost:8080/",
          "height": 68
        },
        "outputId": "8f105c33-4d3f-47fd-8a67-2c2e9f08cba3",
        "executionInfo": {
          "status": "ok",
          "timestamp": 1517779059397,
          "user_tz": 480,
          "elapsed": 1220,
          "user": {
            "displayName": "Nate Tucker",
            "photoUrl": "https://lh3.googleusercontent.com/a/default-user=s128",
            "userId": "111608333972400226084"
          }
        }
      },
      "cell_type": "code",
      "source": [
        "trump_bot = model_author('DonaldTrump')\n",
        "\n",
        "for i in range(3):\n",
        "    print(trump_bot.make_short_sentence(140))"
      ],
      "execution_count": 23,
      "outputs": [
        {
          "output_type": "stream",
          "text": [
            "People haven't had a chance.\n",
            "Buy directly from CBS Evening News..At some point the Fake News or politically motivated ingrates,....19,000 RESPECTING our National Anthem.\n",
            "Must be very exciting!.Honored to serve as the capital gains tax in this week’s All-Star Celebrity Apprentice..Enviro friendly?\n"
          ],
          "name": "stdout"
        }
      ]
    },
    {
      "metadata": {
        "id": "uBdg5gvHcFf2",
        "colab_type": "code",
        "colab": {
          "autoexec": {
            "startup": false,
            "wait_interval": 0
          },
          "output_extras": [
            {
              "item_id": 1
            }
          ],
          "base_uri": "https://localhost:8080/",
          "height": 68
        },
        "outputId": "2ce42abb-3d6b-4fd0-9471-5d5b73a3f102",
        "executionInfo": {
          "status": "ok",
          "timestamp": 1517779068575,
          "user_tz": 480,
          "elapsed": 517,
          "user": {
            "displayName": "Nate Tucker",
            "photoUrl": "https://lh3.googleusercontent.com/a/default-user=s128",
            "userId": "111608333972400226084"
          }
        }
      },
      "cell_type": "code",
      "source": [
        "clinton_bot = model_author('HillaryClinton')\n",
        "\n",
        "for i in range(3):\n",
        "    print(clinton_bot.make_short_sentence(140))"
      ],
      "execution_count": 24,
      "outputs": [
        {
          "output_type": "stream",
          "text": [
            "They can't wait to see how you can vote in 2002 is not an occasion for politics as usual.\n",
            "Why that should terrify you:http://hrc.io/1lYxYEf .Keeping our families and communities. -H.Hats off to care for 9 million children expire.\n",
            "Tolerance is on the border and call for treating American Muslims in New York state like I do, there are none.\n"
          ],
          "name": "stdout"
        }
      ]
    },
    {
      "metadata": {
        "id": "9Rb3t0i_jOjZ",
        "colab_type": "text"
      },
      "cell_type": "markdown",
      "source": [
        "## Word2Vec\n",
        "* Trains a two-layer neural network to generate dense vector representations of words (*word embeddings*)\n",
        "* Two main versions:\n",
        "  * **continuous bag of words** (*CBOW*): use context words to predict target word\n",
        "  * **skip-gram model**: use target word to predict context words\n",
        "![](https://raw.githubusercontent.com/andrewdblevins/beyond_word2vec/master/images/Word2vec2.png =800x)"
      ]
    },
    {
      "metadata": {
        "id": "xIU-ejN6r7rJ",
        "colab_type": "code",
        "colab": {
          "autoexec": {
            "startup": false,
            "wait_interval": 0
          }
        }
      },
      "cell_type": "code",
      "source": [
        "from sklearn.feature_extraction.text import CountVectorizer\n",
        "\n",
        "tokenize_text = CountVectorizer(\n",
        "    stop_words='english', \n",
        "    lowercase=True,\n",
        "    token_pattern=r'\\b\\w*[a-zA-Z]{3,}\\w*\\b'\n",
        ").build_analyzer()\n",
        "\n",
        "df['text_tokens'] = df.text.apply(lambda x: tokenize_text(x))"
      ],
      "execution_count": 0,
      "outputs": []
    },
    {
      "metadata": {
        "id": "MBcEuC0KcFgE",
        "colab_type": "code",
        "colab": {
          "autoexec": {
            "startup": false,
            "wait_interval": 0
          },
          "output_extras": [
            {
              "item_id": 1
            }
          ],
          "base_uri": "https://localhost:8080/",
          "height": 204
        },
        "outputId": "1d15cd97-7c72-4c17-c909-7dd2588ee3e8",
        "executionInfo": {
          "status": "ok",
          "timestamp": 1517837746037,
          "user_tz": -60,
          "elapsed": 518,
          "user": {
            "displayName": "Amadeus Magrabi",
            "photoUrl": "//lh6.googleusercontent.com/-GmOmTR4RGhE/AAAAAAAAAAI/AAAAAAAAAoc/jLVT34KD7Fw/s50-c-k-no/photo.jpg",
            "userId": "103763821960183476461"
          }
        }
      },
      "cell_type": "code",
      "source": [
        "df[['text', 'text_tokens']].head()"
      ],
      "execution_count": 87,
      "outputs": [
        {
          "output_type": "execute_result",
          "data": {
            "text/html": [
              "<div>\n",
              "<style scoped>\n",
              "    .dataframe tbody tr th:only-of-type {\n",
              "        vertical-align: middle;\n",
              "    }\n",
              "\n",
              "    .dataframe tbody tr th {\n",
              "        vertical-align: top;\n",
              "    }\n",
              "\n",
              "    .dataframe thead th {\n",
              "        text-align: right;\n",
              "    }\n",
              "</style>\n",
              "<table border=\"1\" class=\"dataframe\">\n",
              "  <thead>\n",
              "    <tr style=\"text-align: right;\">\n",
              "      <th></th>\n",
              "      <th>text</th>\n",
              "      <th>text_tokens</th>\n",
              "    </tr>\n",
              "  </thead>\n",
              "  <tbody>\n",
              "    <tr>\n",
              "      <th>0</th>\n",
              "      <td>Denying climate change is dangerous. Join @OFA...</td>\n",
              "      <td>[denying, climate, change, dangerous, join, of...</td>\n",
              "    </tr>\n",
              "    <tr>\n",
              "      <th>1</th>\n",
              "      <td>The American Bar Association gave Judge Garlan...</td>\n",
              "      <td>[american, bar, association, gave, judge, garl...</td>\n",
              "    </tr>\n",
              "    <tr>\n",
              "      <th>2</th>\n",
              "      <td>We need a fully functional Supreme Court. Edit...</td>\n",
              "      <td>[need, fully, functional, supreme, court, edit...</td>\n",
              "    </tr>\n",
              "    <tr>\n",
              "      <th>3</th>\n",
              "      <td>Cynics, take note: When we #ActOnClimate, we b...</td>\n",
              "      <td>[cynics, note, actonclimate, build, stronger, ...</td>\n",
              "    </tr>\n",
              "    <tr>\n",
              "      <th>4</th>\n",
              "      <td>\"That’s how we will overcome the challenges we...</td>\n",
              "      <td>[overcome, challenges, face, unleashing, power...</td>\n",
              "    </tr>\n",
              "  </tbody>\n",
              "</table>\n",
              "</div>"
            ],
            "text/plain": [
              "                                                text  \\\n",
              "0  Denying climate change is dangerous. Join @OFA...   \n",
              "1  The American Bar Association gave Judge Garlan...   \n",
              "2  We need a fully functional Supreme Court. Edit...   \n",
              "3  Cynics, take note: When we #ActOnClimate, we b...   \n",
              "4  \"That’s how we will overcome the challenges we...   \n",
              "\n",
              "                                         text_tokens  \n",
              "0  [denying, climate, change, dangerous, join, of...  \n",
              "1  [american, bar, association, gave, judge, garl...  \n",
              "2  [need, fully, functional, supreme, court, edit...  \n",
              "3  [cynics, note, actonclimate, build, stronger, ...  \n",
              "4  [overcome, challenges, face, unleashing, power...  "
            ]
          },
          "metadata": {
            "tags": []
          },
          "execution_count": 87
        }
      ]
    },
    {
      "metadata": {
        "id": "hyHtS2tOcFgG",
        "colab_type": "code",
        "colab": {
          "autoexec": {
            "startup": false,
            "wait_interval": 0
          }
        }
      },
      "cell_type": "code",
      "source": [
        "from gensim.models import Word2Vec\n",
        "\n",
        "authors = ['BarackObama', 'DonaldTrump', 'HillaryClinton']\n",
        "w2v_models = {}\n",
        "\n",
        "for author in authors:\n",
        "  w2v_models[author] = Word2Vec(\n",
        "      sentences=df.text_tokens[df.author == author]\n",
        "  )"
      ],
      "execution_count": 0,
      "outputs": []
    },
    {
      "metadata": {
        "id": "6j0pNnUGcFgH",
        "colab_type": "code",
        "colab": {
          "autoexec": {
            "startup": false,
            "wait_interval": 0
          },
          "output_extras": [
            {
              "item_id": 1
            }
          ],
          "base_uri": "https://localhost:8080/",
          "height": 1547
        },
        "outputId": "e8993139-574d-4fef-c55b-f0a8842450fd",
        "executionInfo": {
          "status": "ok",
          "timestamp": 1517838342376,
          "user_tz": -60,
          "elapsed": 511,
          "user": {
            "displayName": "Amadeus Magrabi",
            "photoUrl": "//lh6.googleusercontent.com/-GmOmTR4RGhE/AAAAAAAAAAI/AAAAAAAAAoc/jLVT34KD7Fw/s50-c-k-no/photo.jpg",
            "userId": "103763821960183476461"
          }
        }
      },
      "cell_type": "code",
      "source": [
        "topn = 3\n",
        "topics = ['health', 'america', 'china', 'women',\n",
        "          'important', 'support', 'lgbt',\n",
        "          'trump', 'obama', 'clinton']\n",
        "\n",
        "for topic in topics:\n",
        "    print('\\n --- Topic: %s --- \\n' % topic)\n",
        "    for author, w2v_model in w2v_models.items():\n",
        "        print('%s:' % author)\n",
        "        try:\n",
        "            similar_words = w2v_model.wv.similar_by_word(topic, topn=topn)\n",
        "        except KeyError:\n",
        "            similar_words = ['UNDEFINED']\n",
        "        print(similar_words)"
      ],
      "execution_count": 116,
      "outputs": [
        {
          "output_type": "stream",
          "text": [
            "\n",
            " --- Topic: health --- \n",
            "\n",
            "HillaryClinton:\n",
            "[(u'access', 0.9997118711471558), (u'child', 0.9996848702430725), (u'affordable', 0.999656617641449)]\n",
            "DonaldTrump:\n",
            "[(u'private', 0.9998042583465576), (u'send', 0.9998011589050293), (u'victims', 0.9997828006744385)]\n",
            "BarackObama:\n",
            "[(u'affordable', 0.9978976845741272), (u'care', 0.9911826848983765), (u'reform', 0.9900367259979248)]\n",
            "\n",
            " --- Topic: america --- \n",
            "\n",
            "HillaryClinton:\n",
            "[(u'great', 0.9998519420623779), (u'work', 0.9998313188552856), (u'strong', 0.999828577041626)]\n",
            "DonaldTrump:\n",
            "[(u'great', 0.9723272323608398), (u'make', 0.9686092138290405), (u'thank', 0.9381998181343079)]\n",
            "BarackObama:\n",
            "[(u'opportunityforall', 0.9993357062339783), (u'want', 0.9991331696510315), (u'education', 0.9990577697753906)]\n",
            "\n",
            " --- Topic: china --- \n",
            "\n",
            "HillaryClinton:\n",
            "[(u'world', 0.9996312856674194), (u'help', 0.9996302723884583), (u'potus', 0.9996299147605896)]\n",
            "DonaldTrump:\n",
            "[(u'iran', 0.9992865324020386), (u'killing', 0.9989791512489319), (u'laughing', 0.998968243598938)]\n",
            "BarackObama:\n",
            "[(u'teachers', 0.9995983839035034), (u'governor', 0.9995325207710266), (u'build', 0.9995107650756836)]\n",
            "\n",
            " --- Topic: women --- \n",
            "\n",
            "HillaryClinton:\n",
            "[(u'voting', 0.9998116493225098), (u'lgbt', 0.9997989535331726), (u'protect', 0.9997819066047668)]\n",
            "DonaldTrump:\n",
            "[(u'freedom', 0.9998100996017456), (u'police', 0.9997923374176025), (u'honored', 0.999781608581543)]\n",
            "BarackObama:\n",
            "[(u'making', 0.9991907477378845), (u'adults', 0.9991008043289185), (u'choices', 0.9990646243095398)]\n",
            "\n",
            " --- Topic: important --- \n",
            "\n",
            "HillaryClinton:\n",
            "[(u'just', 0.9999006390571594), (u'right', 0.9998987913131714), (u'matter', 0.9998950958251953)]\n",
            "DonaldTrump:\n",
            "[(u'results', 0.9997621774673462), (u'talent', 0.9997240304946899), (u'able', 0.9996933937072754)]\n",
            "BarackObama:\n",
            "[(u'facts', 0.9997731447219849), (u'issues', 0.9997449517250061), (u'historic', 0.9997398853302002)]\n",
            "\n",
            " --- Topic: support --- \n",
            "\n",
            "HillaryClinton:\n",
            "[(u'woman', 0.9999127388000488), (u'justice', 0.9999118447303772), (u'stop', 0.9999118447303772)]\n",
            "DonaldTrump:\n",
            "[(u'thanks', 0.9996099472045898), (u'maga', 0.9995558857917786), (u'join', 0.9992222785949707)]\n",
            "BarackObama:\n",
            "[(u'time', 0.9992257952690125), (u'pollution', 0.9992201328277588), (u'clear', 0.9991023540496826)]\n",
            "\n",
            " --- Topic: lgbt --- \n",
            "\n",
            "HillaryClinton:\n",
            "[(u'fighting', 0.9998012781143188), (u'women', 0.9997990131378174), (u'voting', 0.9997868537902832)]\n",
            "DonaldTrump:\n",
            "['UNDEFINED']\n",
            "BarackObama:\n",
            "[(u'important', 0.9997262954711914), (u'story', 0.9996813535690308), (u'historic', 0.9996539354324341)]\n",
            "\n",
            " --- Topic: trump --- \n",
            "\n",
            "HillaryClinton:\n",
            "[(u'doesn', 0.9997474551200867), (u'makes', 0.9997150897979736), (u'says', 0.9997137784957886)]\n",
            "DonaldTrump:\n",
            "[(u'washingtontimes', 0.991287887096405), (u'newsfront', 0.9902215600013733), (u'businessinsider', 0.9894301891326904)]\n",
            "BarackObama:\n",
            "['UNDEFINED']\n",
            "\n",
            " --- Topic: obama --- \n",
            "\n",
            "HillaryClinton:\n",
            "[(u'justice', 0.9998936057090759), (u'man', 0.9998884201049805), (u'big', 0.999885082244873)]\n",
            "DonaldTrump:\n",
            "[(u'said', 0.9974951148033142), (u'didn', 0.9969090819358826), (u'got', 0.9959822297096252)]\n",
            "BarackObama:\n",
            "[(u'president', 0.9893414378166199), (u'address', 0.9777218699455261), (u'gov', 0.976222038269043)]\n",
            "\n",
            " --- Topic: clinton --- \n",
            "\n",
            "HillaryClinton:\n",
            "[(u'man', 0.9998675584793091), (u'potus', 0.9998530149459839), (u'obama', 0.9998476505279541)]\n",
            "DonaldTrump:\n",
            "[(u'crooked', 0.9981364607810974), (u'bad', 0.9865580797195435), (u'hillary', 0.9855284690856934)]\n",
            "BarackObama:\n",
            "[(u'irandeal', 0.9996765851974487), (u'iran', 0.9996654987335205), (u'makes', 0.9996058344841003)]\n"
          ],
          "name": "stdout"
        }
      ]
    },
    {
      "metadata": {
        "id": "R1xUovQoqWZ9",
        "colab_type": "text"
      },
      "cell_type": "markdown",
      "source": [
        "# Conclusion\n",
        "\n",
        "More things that we could do if we had time:\n",
        "\n",
        "1. LSTM generative model\n",
        "2. LDA, to extract topics of the tweets\n",
        "3. Sentiment analysis\n",
        "4. TweetResponderBot!!!\n",
        "5. Do stuff with likes and retweets (predict or use as predictors)"
      ]
    },
    {
      "metadata": {
        "id": "UAh3HenpcFgK",
        "colab_type": "code",
        "colab": {
          "autoexec": {
            "startup": false,
            "wait_interval": 0
          }
        }
      },
      "cell_type": "code",
      "source": [
        ""
      ],
      "execution_count": 0,
      "outputs": []
    },
    {
      "metadata": {
        "id": "0qdEAUZjcFgL",
        "colab_type": "code",
        "colab": {
          "autoexec": {
            "startup": false,
            "wait_interval": 0
          }
        }
      },
      "cell_type": "code",
      "source": [
        ""
      ],
      "execution_count": 0,
      "outputs": []
    },
    {
      "metadata": {
        "id": "Mng03gimcFgM",
        "colab_type": "code",
        "colab": {
          "autoexec": {
            "startup": false,
            "wait_interval": 0
          }
        }
      },
      "cell_type": "code",
      "source": [
        ""
      ],
      "execution_count": 0,
      "outputs": []
    },
    {
      "metadata": {
        "id": "dvpNNxRVcFgO",
        "colab_type": "code",
        "colab": {
          "autoexec": {
            "startup": false,
            "wait_interval": 0
          }
        }
      },
      "cell_type": "code",
      "source": [
        ""
      ],
      "execution_count": 0,
      "outputs": []
    },
    {
      "metadata": {
        "id": "FKsW__n5cFge",
        "colab_type": "code",
        "colab": {
          "autoexec": {
            "startup": false,
            "wait_interval": 0
          }
        }
      },
      "cell_type": "code",
      "source": [
        ""
      ],
      "execution_count": 0,
      "outputs": []
    },
    {
      "metadata": {
        "id": "ZykF_71WcFgf",
        "colab_type": "code",
        "colab": {
          "autoexec": {
            "startup": false,
            "wait_interval": 0
          }
        }
      },
      "cell_type": "code",
      "source": [
        ""
      ],
      "execution_count": 0,
      "outputs": []
    },
    {
      "metadata": {
        "id": "U_sjCwPTcFgh",
        "colab_type": "code",
        "colab": {
          "autoexec": {
            "startup": false,
            "wait_interval": 0
          }
        }
      },
      "cell_type": "code",
      "source": [
        ""
      ],
      "execution_count": 0,
      "outputs": []
    },
    {
      "metadata": {
        "id": "X2IpfwAFcFgi",
        "colab_type": "code",
        "colab": {
          "autoexec": {
            "startup": false,
            "wait_interval": 0
          }
        }
      },
      "cell_type": "code",
      "source": [
        ""
      ],
      "execution_count": 0,
      "outputs": []
    },
    {
      "metadata": {
        "id": "9tyVX3arcFgk",
        "colab_type": "code",
        "colab": {
          "autoexec": {
            "startup": false,
            "wait_interval": 0
          }
        }
      },
      "cell_type": "code",
      "source": [
        ""
      ],
      "execution_count": 0,
      "outputs": []
    },
    {
      "metadata": {
        "id": "JfPQT7pjcFgl",
        "colab_type": "code",
        "colab": {
          "autoexec": {
            "startup": false,
            "wait_interval": 0
          }
        }
      },
      "cell_type": "code",
      "source": [
        ""
      ],
      "execution_count": 0,
      "outputs": []
    },
    {
      "metadata": {
        "id": "vX9fHgEecFgr",
        "colab_type": "code",
        "colab": {
          "autoexec": {
            "startup": false,
            "wait_interval": 0
          }
        }
      },
      "cell_type": "code",
      "source": [
        ""
      ],
      "execution_count": 0,
      "outputs": []
    },
    {
      "metadata": {
        "id": "jDn_ZPxGcFgs",
        "colab_type": "code",
        "colab": {
          "autoexec": {
            "startup": false,
            "wait_interval": 0
          }
        }
      },
      "cell_type": "code",
      "source": [
        ""
      ],
      "execution_count": 0,
      "outputs": []
    },
    {
      "metadata": {
        "id": "iBWraOAdcFgt",
        "colab_type": "code",
        "colab": {
          "autoexec": {
            "startup": false,
            "wait_interval": 0
          }
        }
      },
      "cell_type": "code",
      "source": [
        ""
      ],
      "execution_count": 0,
      "outputs": []
    },
    {
      "metadata": {
        "id": "zB6abafkcFgt",
        "colab_type": "code",
        "colab": {
          "autoexec": {
            "startup": false,
            "wait_interval": 0
          }
        }
      },
      "cell_type": "code",
      "source": [
        ""
      ],
      "execution_count": 0,
      "outputs": []
    },
    {
      "metadata": {
        "id": "wD9-WlR2cFgx",
        "colab_type": "code",
        "colab": {
          "autoexec": {
            "startup": false,
            "wait_interval": 0
          }
        }
      },
      "cell_type": "code",
      "source": [
        ""
      ],
      "execution_count": 0,
      "outputs": []
    },
    {
      "metadata": {
        "id": "Ra4DiJyTcFgy",
        "colab_type": "code",
        "colab": {
          "autoexec": {
            "startup": false,
            "wait_interval": 0
          }
        }
      },
      "cell_type": "code",
      "source": [
        ""
      ],
      "execution_count": 0,
      "outputs": []
    }
  ]
}